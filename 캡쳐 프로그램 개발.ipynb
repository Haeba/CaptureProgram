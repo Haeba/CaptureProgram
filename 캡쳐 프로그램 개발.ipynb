{
 "cells": [
  {
   "cell_type": "code",
   "execution_count": null,
   "metadata": {},
   "outputs": [
    {
     "name": "stdout",
     "output_type": "stream",
     "text": [
      "버튼1 눌림\n"
     ]
    }
   ],
   "source": [
    "import sys\n",
    "from PyQt5.QtWidgets import QApplication, QWidget, QPushButton, QVBoxLayout, QMessageBox\n",
    "from PyQt5.QtGui import QIcon, QPixmap\n",
    "from PyQt5.QtCore import QCoreApplication\n",
    "from PIL import ImageGrab\n",
    "\n",
    "\n",
    "class MyApp(QWidget):\n",
    "\n",
    "    def __init__(self):\n",
    "        super().__init__()\n",
    "\n",
    "        self.initUI()\n",
    "\n",
    "    def initUI(self):\n",
    "\n",
    "        btn1 = QPushButton(self)\n",
    "        btn1.setText('전체 캡쳐')\n",
    "        btn1.clicked.connect(self.btn1_clicked)\n",
    "        btn2 = QPushButton(self)\n",
    "        btn2.setText('대수창 캡쳐')\n",
    "        btn3 = QPushButton(self)\n",
    "        btn3.setText('블록코딩창 캡쳐')\n",
    "        btn4 = QPushButton(self)\n",
    "        btn4.setText('기하창 캡쳐')\n",
    "        \n",
    "        vbox = QVBoxLayout()\n",
    "        vbox.addWidget(btn1)\n",
    "        vbox.addWidget(btn2)\n",
    "        vbox.addWidget(btn3)\n",
    "        vbox.addWidget(btn4)\n",
    "\n",
    "        self.setLayout(vbox)\n",
    "        \n",
    "        self.setWindowTitle('Algeomath Capture')\n",
    "        self.setWindowIcon(QIcon('web.png'))\n",
    "        self.setGeometry(300, 300, 300, 200)\n",
    "        self.show()\n",
    "        \n",
    "    def btn1_clicked(self):\n",
    "        img = ImageGrab.grab()\n",
    "        saveas='full_capture1.png'\n",
    "        img.save(saveas)\n",
    "        reply = QMessageBox.question(self, 'Message', '캡쳐 완료!', QMessageBox.Yes)\n",
    "\n",
    "\n",
    "\n",
    "if __name__ == '__main__':\n",
    "\n",
    "    app = QApplication(sys.argv)\n",
    "    ex = MyApp()\n",
    "    sys.exit(app.exec_())"
   ]
  }
 ],
 "metadata": {
  "kernelspec": {
   "display_name": "Python 3",
   "language": "python",
   "name": "python3"
  },
  "language_info": {
   "codemirror_mode": {
    "name": "ipython",
    "version": 3
   },
   "file_extension": ".py",
   "mimetype": "text/x-python",
   "name": "python",
   "nbconvert_exporter": "python",
   "pygments_lexer": "ipython3",
   "version": "3.7.4"
  }
 },
 "nbformat": 4,
 "nbformat_minor": 2
}
